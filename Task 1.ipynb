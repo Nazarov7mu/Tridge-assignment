{
 "cells": [
  {
   "cell_type": "markdown",
   "metadata": {},
   "source": [
    "\n",
    "# Task 1\n",
    "## For this task I tried not to use Python libraries with ready solutions for finding divisors or triangular numbers"
   ]
  },
  {
   "cell_type": "markdown",
   "metadata": {},
   "source": [
    "Import necessary libraries\n"
   ]
  },
  {
   "cell_type": "code",
   "execution_count": 1,
   "metadata": {},
   "outputs": [],
   "source": [
    "import time\n",
    "import math"
   ]
  },
  {
   "cell_type": "markdown",
   "metadata": {},
   "source": [
    "The function to find amount of divisors of a given number."
   ]
  },
  {
   "cell_type": "code",
   "execution_count": 2,
   "metadata": {},
   "outputs": [],
   "source": [
    "def number_of_divisors(n):\n",
    "    divisors = 1\n",
    "    for i in range(1, n):\n",
    "        if n%i==0:\n",
    "            divisors+=1\n",
    "    return divisors"
   ]
  },
  {
   "cell_type": "markdown",
   "metadata": {},
   "source": [
    "The function to find the triangular number with more than a given number of divisors."
   ]
  },
  {
   "cell_type": "code",
   "execution_count": 3,
   "metadata": {},
   "outputs": [],
   "source": [
    "def find_triangular_number(divisors):\n",
    "    number = 0 \n",
    "    i = 1\n",
    "    while number_of_divisors(number)<divisors:\n",
    "        number = number + i\n",
    "        i+=1\n",
    "        #print(number)\n",
    "        \n",
    "    print('Triangular number ',number,'has number of divisors more than', divisors)"
   ]
  },
  {
   "cell_type": "markdown",
   "metadata": {},
   "source": [
    "This is a very straightforward(naive) and brute-force solution with time complexity of **O(n^2)**"
   ]
  },
  {
   "cell_type": "markdown",
   "metadata": {},
   "source": [
    "It took so much time to complete, and I even didn't wait until the end. Instead, I found the triangular number with more than 50 divisors to see if the solution works. "
   ]
  },
  {
   "cell_type": "code",
   "execution_count": 4,
   "metadata": {
    "scrolled": true
   },
   "outputs": [
    {
     "name": "stdout",
     "output_type": "stream",
     "text": [
      "Triangular number  25200 has number of divisors more than 50\n",
      "0.12600493431091309  seconds\n"
     ]
    }
   ],
   "source": [
    "startingTime = time.time()\n",
    "find_triangular_number(50)\n",
    "print(time.time()-startingTime, ' seconds')"
   ]
  },
  {
   "cell_type": "markdown",
   "metadata": {},
   "source": [
    "It took **~0.13** seconds to complete.\n",
    "\n",
    "So I decided to think about the ways to make it faster.\n",
    "\n",
    "There is one known trick to find the divisors of a number significantly faster, by looping till the square root of the number.\n",
    "\n",
    "Hence the time complexity will be **O(n*sqrt(n))**"
   ]
  },
  {
   "cell_type": "code",
   "execution_count": 5,
   "metadata": {},
   "outputs": [],
   "source": [
    "def number_of_divisors_fast(n):\n",
    "    divisors = 0\n",
    "    for i in range(1, int(math.sqrt(n)+1)):\n",
    "        if (n%i == 0):\n",
    "            if(n/i ==i): #if the divisors are equal, add only one\n",
    "                divisors+=1\n",
    "            else: #else add both\n",
    "                divisors+=2\n",
    "\n",
    "    return divisors\n",
    "        "
   ]
  },
  {
   "cell_type": "code",
   "execution_count": 6,
   "metadata": {},
   "outputs": [],
   "source": [
    "def find_triangle_number_fast(divisors):\n",
    "    number = 0 \n",
    "    i = 1\n",
    "    while number_of_divisors_fast(number)<divisors:\n",
    "        number = number + i\n",
    "        i+=1\n",
    "        #print(number)\n",
    "     \n",
    "    print('Triangular number ',number,'has number of divisors more than', divisors)"
   ]
  },
  {
   "cell_type": "markdown",
   "metadata": {},
   "source": [
    "First, I wanted to compare the performance of this solution with the naive approach."
   ]
  },
  {
   "cell_type": "code",
   "execution_count": 7,
   "metadata": {},
   "outputs": [
    {
     "name": "stdout",
     "output_type": "stream",
     "text": [
      "Triangular number  25200 has number of divisors more than 50\n",
      "0.002998828887939453  seconds\n"
     ]
    }
   ],
   "source": [
    "startingTime=time.time()\n",
    "find_triangle_number_fast(50)\n",
    "print(time.time()-startingTime, ' seconds')"
   ]
  },
  {
   "cell_type": "markdown",
   "metadata": {},
   "source": [
    "As we can see, time to complete with 50 divirors is **~0.003** seconds, which is a lot faster than the naive approach."
   ]
  },
  {
   "cell_type": "code",
   "execution_count": 8,
   "metadata": {},
   "outputs": [
    {
     "name": "stdout",
     "output_type": "stream",
     "text": [
      "Triangular number  76576500 has number of divisors more than 500\n",
      "3.4978809356689453  seconds\n"
     ]
    }
   ],
   "source": [
    "startingTime=time.time()\n",
    "find_triangle_number_fast(500)\n",
    "print(time.time()-startingTime, ' seconds')"
   ]
  },
  {
   "cell_type": "markdown",
   "metadata": {},
   "source": [
    "And the 500th triangular number was also found relatively fast."
   ]
  },
  {
   "cell_type": "markdown",
   "metadata": {},
   "source": [
    "Also there is a triangle number formula, which is *n x (n+1)/2*, but I think that I have already achieved a good performance with previous solution. \n",
    "\n",
    "However, I decided to try with the formula as well. "
   ]
  },
  {
   "cell_type": "code",
   "execution_count": 9,
   "metadata": {},
   "outputs": [],
   "source": [
    "def find_triangle_number_formula(divisors):\n",
    "    n = 1\n",
    "    while 1:\n",
    "        triangular=n*(n+1)/2\n",
    "        if number_of_divisors_fast(triangular)>=divisors:\n",
    "            break;\n",
    "        n+=1\n",
    "     \n",
    "    print('Triangular number ',triangular,'has number of divisors more than', divisors)"
   ]
  },
  {
   "cell_type": "code",
   "execution_count": 10,
   "metadata": {},
   "outputs": [
    {
     "name": "stdout",
     "output_type": "stream",
     "text": [
      "Triangular number  76576500.0 has number of divisors more than 500\n",
      "5.177817106246948  seconds\n"
     ]
    }
   ],
   "source": [
    "startingTime=time.time()\n",
    "find_triangle_number_formula(500)\n",
    "print(time.time()-startingTime, ' seconds')"
   ]
  },
  {
   "cell_type": "markdown",
   "metadata": {},
   "source": [
    "As we can see, with the formula we get slightly worse performance."
   ]
  },
  {
   "cell_type": "markdown",
   "metadata": {},
   "source": [
    "## References"
   ]
  },
  {
   "cell_type": "markdown",
   "metadata": {},
   "source": [
    "https://www.dcode.fr/divisors-list-number \n",
    "\n",
    "https://stackoverflow.com/questions/1557571/how-do-i-get-time-of-a-python-programs-execution"
   ]
  }
 ],
 "metadata": {
  "kernelspec": {
   "display_name": "Python 3",
   "language": "python",
   "name": "python3"
  },
  "language_info": {
   "codemirror_mode": {
    "name": "ipython",
    "version": 3
   },
   "file_extension": ".py",
   "mimetype": "text/x-python",
   "name": "python",
   "nbconvert_exporter": "python",
   "pygments_lexer": "ipython3",
   "version": "3.7.0"
  }
 },
 "nbformat": 4,
 "nbformat_minor": 2
}
