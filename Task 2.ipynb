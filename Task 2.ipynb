{
 "cells": [
  {
   "cell_type": "markdown",
   "metadata": {},
   "source": [
    "# Task 2"
   ]
  },
  {
   "cell_type": "markdown",
   "metadata": {},
   "source": [
    "After taking a look at the csv files I recognized main(in my opinion) difficulties of the task:\n",
    "\n",
    "1) Some products in data.csv are in the singular form, others are in the plural. \n",
    "\n",
    "2) There are products in products.csv that are not listed in attributes.csv. \n",
    "\n",
    "3) There are products in data.csv that are not present in products.csv.\n",
    "\n",
    "4) Many products' attributes listed in data.csv are not present in attributes.csv or appear in a different form. For example , 'sliced' - 'slices'. These cases could be considered using various conditions, but I focused only on the attributes that appear in the exact form.\n",
    "\n",
    "### The task is to map the freeform items from data.csv with the products and attributes from the dictionary(products.csv, attributes.csv), therefore the final result doesn't contain products and attributes from data.cvs that are not present in the dictionary.\n"
   ]
  },
  {
   "cell_type": "markdown",
   "metadata": {},
   "source": [
    "Import neccessary libraries"
   ]
  },
  {
   "cell_type": "code",
   "execution_count": 1,
   "metadata": {},
   "outputs": [],
   "source": [
    "import csv\n",
    "import re"
   ]
  },
  {
   "cell_type": "markdown",
   "metadata": {},
   "source": [
    "Read items from products.csv and store them in the list *products*"
   ]
  },
  {
   "cell_type": "code",
   "execution_count": 2,
   "metadata": {},
   "outputs": [],
   "source": [
    "filename = 'products.csv'\n",
    "\n",
    "with open(filename) as csvfile:\n",
    "    readCSV = csv.reader(csvfile, delimiter=',')\n",
    "    products = []\n",
    "    for i, row in enumerate(readCSV):\n",
    "        if i == 0:\n",
    "            continue\n",
    "        products.append(row[0])"
   ]
  },
  {
   "cell_type": "code",
   "execution_count": 3,
   "metadata": {},
   "outputs": [
    {
     "data": {
      "text/plain": [
       "['Lemon',\n",
       " 'Peanut',\n",
       " 'Cashew Nut',\n",
       " 'Dragon Fruit',\n",
       " 'Basil',\n",
       " 'Rice',\n",
       " 'Banana',\n",
       " 'Chestnut',\n",
       " 'White Pepper',\n",
       " 'Cumin Seed',\n",
       " 'Cardamom',\n",
       " 'Flour',\n",
       " 'Fennel',\n",
       " 'Other Chili Pepper',\n",
       " 'Quinoa',\n",
       " 'Garlic',\n",
       " 'Cocoa Bean',\n",
       " 'Chips',\n",
       " 'Jackfruit',\n",
       " 'Onion',\n",
       " 'Coffee Bean',\n",
       " 'Coconut Oil',\n",
       " 'Chia Seed',\n",
       " 'Coconut']"
      ]
     },
     "execution_count": 3,
     "metadata": {},
     "output_type": "execute_result"
    }
   ],
   "source": [
    "products"
   ]
  },
  {
   "cell_type": "markdown",
   "metadata": {},
   "source": [
    "Read items from attributes.csv and store them in the dictionaty *products_and_attributes* with key as product name and product attributes as the value"
   ]
  },
  {
   "cell_type": "code",
   "execution_count": 4,
   "metadata": {},
   "outputs": [],
   "source": [
    "filename = 'attributes.csv'\n",
    "\n",
    "with open(filename) as csvfile:\n",
    "    readCSV = csv.reader(csvfile, delimiter=',')\n",
    "    products_and_attributes = {}\n",
    "    \n",
    "    key = ''\n",
    "    attrs = []\n",
    "    for i, row in enumerate(readCSV):\n",
    "        if i == 0:\n",
    "            continue\n",
    "        if row[0]!=key:\n",
    "            products_and_attributes[key] = attrs\n",
    "            key = row[0]\n",
    "            attrs = []\n",
    "            \n",
    "        attrs.append(row[1])"
   ]
  },
  {
   "cell_type": "markdown",
   "metadata": {},
   "source": [
    "**The list will be in the format like this:**\n",
    "\n",
    "{'Lemon': ['Myrtle', 'Verbena', 'Japanese (= Yuzu)', 'Pink', 'Seedless', 'Seeded', 'Conventional', 'Sweet Lemon', 'Eureka - LS Eureka',...],\n",
    "\n",
    "'Peanut': ['Glazed', 'Smoked', 'Conventional', 'Salted', 'Halves',....],\n",
    "\n",
    "..\n",
    "\n",
    "..\n",
    "\n",
    "..\n",
    "\n",
    "'Coffee Bean': ['Colombia: Pasilia (Screen 13-14)', 'Colombia: Excelso (Screen 15-16)', 'Colombia: Supremo (Screen 17)', ....]}"
   ]
  },
  {
   "cell_type": "markdown",
   "metadata": {},
   "source": [
    "Print only the first three items to check."
   ]
  },
  {
   "cell_type": "code",
   "execution_count": 5,
   "metadata": {},
   "outputs": [
    {
     "name": "stdout",
     "output_type": "stream",
     "text": [
      "{'': [], 'Lemon': ['Myrtle', 'Verbena', 'Japanese (= Yuzu)', 'Pink', 'Seedless', 'Seeded', 'Conventional', 'Sweet Lemon', 'Eureka - LS Eureka', 'Mesina', 'Strips', 'Sliced - Rings', 'Crumble & Pieces', 'Whole & Broken', 'Caton Box - Telescopic', 'Caton Box - Open Top', 'Plastic Punnets (=Clamshells)', 'Crates & Bins', 'Foodtainer & Tray', 'Carry Bags', 'Extract', 'Plastic Box', 'Pitted', 'Chaparro', 'Carton Box (=Cardboard Box)', \"As per customer's request\", 'PP Bags', 'Mesh Bags (=Nets)', 'Flowpack', 'Dried - Sun Dried', 'Wooden Box', 'Benzheir', 'Yellow', 'Sami Late', 'Drums', 'Kernel (Nut)', 'Diced', 'Fino (=Primofiori=Mesero=Blano=Primofiore)', 'Genoa (=Genova)', '2PH', 'Adalia', 'Lisbon', 'Lamas', 'Meyer (=Grant Lemon)', 'Interdonato', 'Green', 'Verdelli', 'Verna (=Berna)', 'Sicilian (=Bearss=Siciliano)', 'Eureka', 'Paste', 'Concentrate', 'Puree', 'Pulp', 'Powder', 'Peeled', 'Crushed', 'Chips', 'Flakes', 'Sliced', 'Cubes', 'Quarters', 'Chunks', 'Segments', 'Halves', 'Whole', 'Non-GMO', 'Organic', 'GMO', 'Dried - VF (Vibrofluidized Bed Drying)', 'Dried - VD (Vacuum Drying)', 'Dried - FD (Freeze Drying)', 'Dried - SD (Spray Drying)', 'Dried - AD (Air Drying)', 'Dried (=Dehydrated)', 'Frozen - BQF', 'Frozen - IQF', 'Frozen', 'Fresh (=Chilled)'], 'Peanut': ['Glazed', 'Smoked', 'Conventional', 'Salted', 'Halves', 'Ground', 'Dried', '13~16', '10~12', '38~45', '90~100', '26~36', '24~26', '21~26', '13~15', '11~13', '9~11', '8~10', '7~9', '25~27', '21~25', '35~39', '25~29', '25~35', '70~90', '80~100', '70~80', '60~80', '45~55', '60~70', '50~60', '40~50', '38~42', '35~40', '34~38', '24~28', '20~24', 'Unspecified', 'Non-EU', 'Bird Feed', 'EU Quality', 'Sortex Clean', 'Machine Clean Quality and HPS', 'Machine Clean Quality', 'North Carolina', 'Virginia Shangdong', 'Unspecified', 'Shangdong Seaflower', 'Overo', 'Luhua', 'Long Type', 'High Oleic Virginia', 'Campala', 'Spanish type', 'High Oleic Runner', 'Madagascar', 'Flavored - Wasabi', 'Quarters (1/4 Kernel)', 'Eighth (1/8 Kernel)', 'Blanched', 'Flavored - Peri Peri', 'Pellet', 'Expeller', 'Extraction', 'Grits', 'Cake (Oilcake)', 'Husk', 'Crips', 'Frozen', 'Frozen - IQF', 'Red', 'Chips', 'Flower Type', 'Round Type', 'Pink Skin', 'Red Skin', 'Hsuji', 'Java', 'Carton Box (=Cardboard Box)', 'Flavored', \"As per customer's request\", 'Tins', 'Vacuum Bags', 'Jute Bags', 'PP Bags', 'Roasted - Salted', 'Kernel', 'Powder', 'Paste', 'Puree', 'Fried', 'Split', 'Flour', 'Meal', 'Chopped', 'Diced', 'Slivered', 'Halves (1/2 Kernel)', 'Sliced', 'Strip', 'Blanched', 'Nibs', 'Flake', 'Coated', 'Bold', 'Gregory', 'Spanish Varieties', 'Runner', 'Virginia Varieties', 'Whole', 'Broken', 'Roasted - Value Added', 'Roasted', 'Raw (=Natural)', 'GMO', 'Organic', 'Non-GMO', 'Shelled', 'In-shell']}\n"
     ]
    }
   ],
   "source": [
    "print(dict(list(products_and_attributes.items())[0:3]))"
   ]
  },
  {
   "cell_type": "markdown",
   "metadata": {},
   "source": [
    "Store the product names from *products_and_attributes* to *product_names_in_attributes_csv*"
   ]
  },
  {
   "cell_type": "code",
   "execution_count": 6,
   "metadata": {},
   "outputs": [],
   "source": [
    "product_names_in_attributes_csv = [i for i in products_and_attributes.keys()] "
   ]
  },
  {
   "cell_type": "code",
   "execution_count": 7,
   "metadata": {},
   "outputs": [
    {
     "data": {
      "text/plain": [
       "['',\n",
       " 'Lemon',\n",
       " 'Peanut',\n",
       " 'Cashew Nut',\n",
       " 'Dragon Fruit',\n",
       " 'Basil',\n",
       " 'Rice',\n",
       " 'Banana',\n",
       " 'Chestnut',\n",
       " 'White Pepper',\n",
       " 'Cumin Seed',\n",
       " 'Cardamom',\n",
       " 'Fennel',\n",
       " 'Quinoa',\n",
       " 'Garlic',\n",
       " 'Cocoa Bean',\n",
       " 'Jackfruit',\n",
       " 'Onion',\n",
       " 'Coffee Bean']"
      ]
     },
     "execution_count": 7,
     "metadata": {},
     "output_type": "execute_result"
    }
   ],
   "source": [
    "product_names_in_attributes_csv"
   ]
  },
  {
   "cell_type": "markdown",
   "metadata": {},
   "source": [
    "Now I want to store everything I need into one dictionary *roducts_and_attributes*\n",
    "\n",
    "Add those products that are not listed in *attributes.csv* but are present in *products.csv*"
   ]
  },
  {
   "cell_type": "code",
   "execution_count": 8,
   "metadata": {},
   "outputs": [],
   "source": [
    "for i in list(set(products) - set(product_names_in_attributes_csv)):\n",
    "    products_and_attributes[i] = []"
   ]
  },
  {
   "cell_type": "markdown",
   "metadata": {},
   "source": [
    "Print the last 10 items to check"
   ]
  },
  {
   "cell_type": "code",
   "execution_count": 9,
   "metadata": {},
   "outputs": [
    {
     "name": "stdout",
     "output_type": "stream",
     "text": [
      "{'Cocoa Bean': ['Roasted - Salted', 'Fermented', 'Whole Beans', 'Dried', 'Cocoa Nibs (=Cacao Nibs)', 'PP Bags', 'Dark Brown', 'Jute Sack (Jute Bags)', 'Organic', 'Non-organic', 'Trinitario Cocoa', 'Criollo Cocoa', 'Forastero Cocoa', 'Roasted', 'Raw (=Natural)'], 'Jackfruit': ['Conventional', 'Flowpack', 'Strips', 'Sliced - Rings', 'Crumble & Pieces', 'Whole & Broken', 'Caton Box - Telescopic', 'Caton Box - Open Top', 'Plastic Punnets (=Clamshells)', 'Crates & Bins', 'Foodtainer & Tray', 'Plastic Box', 'Carry Bags', 'Wooden Box', 'Extract', 'Pitted', 'Carton Box (=Cardboard Box)', \"As per customer's request\", 'PP Bags', 'Mesh Bags (=Nets)', 'Dried - Sun Dried', 'Drums', 'Kernel (Nut)', 'Diced', 'Paste', 'Concentrate', 'Puree', 'Pulp', 'Powder', 'Peeled', 'Crushed', 'Chips', 'Flakes', 'Sliced', 'Cubes', 'Quarters', 'Chunks', 'Segments', 'Halves', 'Whole', 'Non-GMO', 'Organic', 'GMO', 'Dried - VF (Vibrofluidized Bed Drying)', 'Dried - VD (Vacuum Drying)', 'Dried - FD (Freeze Drying)', 'Dried - SD (Spray Drying)', 'Dried - AD (Air Drying)', 'Dried', 'Frozen - BQF', 'Frozen - IQF', 'Frozen', 'Fresh (=Chilled)'], 'Onion': ['Cut', 'Minced', 'Conventional', 'Frozen - Blast Frozen', 'Other Onion', 'Red Onion - Red Delicious', 'Red Onion - Salad Red', 'Red Onion - Giant Red Hamburger', 'Yellow Onion - Spanish Onion', 'Yellow Onion - Texas Supersweet (Sweet Onion)', 'Yellow Onion - Granex Yellow Hybrid (Sweet Onion)', 'White Onion - White Granex', 'White Onion - White White', 'White Onion - Snow White Hybrid', 'Chopped', 'Granules', 'Pulp', 'Dried - Sulphured', 'Puree', 'Paste', 'Caton Box - Telescopic', 'Caton Box - Open Top', 'Plastic Punnets (=Clamshells)', 'Crates & Bins', 'Foodtainer & Tray', 'Plastic Box', 'Carry Bags', 'Wooden Box', 'Carton Box (=Cardboard Box)', 'PP Bags', 'Drums', 'Mesh Bags (=Nets)', \"As per customer's request\", 'RIngs', 'Yellow', 'Strip', 'Dried - Sun Dried', 'Halves', 'Other Onion - Rose Onion', 'Split', 'Other - Crimsun Pink Onion', 'Extract', 'White', 'Pink', 'Pink Onion', 'Yellow Onion - Texas Early Grano (Sweet Onion)', 'Red', 'Crushed', 'Flakes', 'Powder', 'Filament', 'Sliced', 'Sticks', 'Diced', 'Cube', 'Chips', 'Block', 'Ball', 'Peeled', 'Tuber', 'Leaf', 'Root', 'Sprout', 'Stem', 'Whole', 'GMO', 'Organic', 'Non-GMO', 'Fresh (=Chilled)', 'Frozen - IQF', 'Frozen - BQF', 'Dried - AD (Air Drying)', 'Dried - SD (Spray Drying)', 'Dried - FD (Freeze Drying)', 'Dried - VD (Vacuum Drying)', 'Dried - VF (Vibrofluidized Bed Drying)', 'Yellow Onion - Cipollini Onions', 'Yellow Onion - Walla Walla (Sweet Onion)', 'Red Onion (=Purple Onion)', 'White Onion', 'Yellow Onion (=Brown Onion)', 'Dried (=Dehydrated)', 'Frozen'], 'Coffee Bean': ['Colombia: Pasilia (Screen 13-14)', 'Colombia: Excelso (Screen 15-16)', 'Colombia: Supremo (Screen 17)', 'Colombia: Premium (Screen 18)', 'Kenya: C (Screens 14)', 'Kenya: PB (Peaberries)', 'Kenya: AB (Screens 15-16)', 'Kenya: AA (Screens 17-18)', 'Others', 'Ground - Extra Fine (For Turkish Coffee)', 'Ground - Fine (For Espresso', 'Ground - Medium Fine (For Aeropress)', 'Ground - Medium (For Drip', 'Ground - Medium Coarse (For Chemex)', 'Ground - Coarse (For French Press', 'Ground - Extra Coarse (For Cold Brew)', 'Blended', 'Single Origin', 'Roasted - Dark Roast (Vienna Roast)', 'Roasted - Medium Roast (American Roast)', 'Roasted - Light Roast (New England Roast)', 'Roasted', 'Decaffeinated', 'Ground', 'Whole Beans', 'Robusta', 'Arabica', 'Roasted - Dark Roast', 'Java', 'Liberica', 'Robusta', 'Arabica', 'Roasted - Dark Roast (Italian Roast)', 'Roasted - Dark Roast (French Roast)', 'Roasted - Dark Roast (Full City Roast)', 'Roasted - Medium Roast (City Roast)', 'High Roast', 'Roasted - Medium Roast', 'Roasted - Light Roast (Cinnamon Roast)', 'Roasted - Light Roast', 'Raw', 'Non-organic', 'Organic', 'Raw - Green Coffee Beans (=Unroasted)'], 'Other Chili Pepper': [], 'Coconut': [], 'Chia Seed': [], 'Chips': [], 'Flour': [], 'Coconut Oil': []}\n"
     ]
    }
   ],
   "source": [
    "print(dict(list(products_and_attributes.items())[-10:]))"
   ]
  },
  {
   "cell_type": "markdown",
   "metadata": {},
   "source": [
    "Remove empty values"
   ]
  },
  {
   "cell_type": "code",
   "execution_count": 10,
   "metadata": {},
   "outputs": [],
   "source": [
    "del products_and_attributes['']\n",
    "product_names_in_attributes_csv.remove('')"
   ]
  },
  {
   "attachments": {},
   "cell_type": "markdown",
   "metadata": {},
   "source": [
    "To show that the approach is working for proper values, I added some new items in data.csv file:\n",
    "\n",
    "**Whole basil seed**\n",
    "\n",
    "**diced yellow lemon**\n",
    "\n",
    "**Java Roasted Coffee Bean**\n",
    "\n",
    "**yellow lemons in plastic box**\n",
    "\n",
    "**cracked white Pepper Organic**\n",
    "\n",
    "**wooden box of sliced black garlic**"
   ]
  },
  {
   "cell_type": "markdown",
   "metadata": {},
   "source": [
    "Read the data.csv and store the result in *data* list"
   ]
  },
  {
   "cell_type": "code",
   "execution_count": 11,
   "metadata": {},
   "outputs": [],
   "source": [
    "filename = 'data.csv'\n",
    "\n",
    "with open(filename) as csvfile:\n",
    "    readCSV = csv.reader(csvfile, delimiter=',')\n",
    "    data = []\n",
    "    for i, row in enumerate(readCSV):\n",
    "        if i == 0:\n",
    "            continue\n",
    "        data.append(row[0])"
   ]
  },
  {
   "cell_type": "markdown",
   "metadata": {},
   "source": [
    "This function will be needed to cut the product name from the item in data.\n",
    "\n",
    "Here I took into consideration that the product name can be in singular or plural form. "
   ]
  },
  {
   "cell_type": "code",
   "execution_count": 12,
   "metadata": {},
   "outputs": [],
   "source": [
    "def cut_from_string(main_string, to_cut_string):\n",
    "    result = re.sub(to_cut_string + 'es', '', main_string)\n",
    "    result = re.sub(to_cut_string + 's', '', result)\n",
    "    result = re.sub(to_cut_string, '', result)\n",
    "    return result"
   ]
  },
  {
   "cell_type": "markdown",
   "metadata": {},
   "source": [
    "This function returns combinations of words inside the list."
   ]
  },
  {
   "cell_type": "code",
   "execution_count": 13,
   "metadata": {},
   "outputs": [],
   "source": [
    "def return_combinations(array):\n",
    "    result = []\n",
    "    for i in range(1, len(array)):\n",
    "        result.append(array[i - 1] + ' ' + array[i])\n",
    "    return result"
   ]
  },
  {
   "cell_type": "markdown",
   "metadata": {},
   "source": [
    "The main logic is here.\n"
   ]
  },
  {
   "cell_type": "code",
   "execution_count": 14,
   "metadata": {
    "scrolled": true
   },
   "outputs": [
    {
     "name": "stdout",
     "output_type": "stream",
     "text": [
      "Processing  Coffee Bean  now...\n",
      "Processing  Coffee Bean  now...\n",
      "Processing  Coffee Bean  now...\n",
      "Processing  Coffee Bean  now...\n",
      "Processing  Cocoa Bean  now...\n",
      "Processing  Flour  now...\n",
      "Processing  Cardamom  now...\n",
      "Processing  Lemon  now...\n",
      "Processing  Flour  now...\n",
      "Processing  White Pepper  now...\n",
      "Processing  Banana  now...\n",
      "Processing  Jackfruit  now...\n",
      "Processing  Chips  now...\n",
      "Processing  Cashew Nut  now...\n",
      "Processing  Dragon Fruit  now...\n",
      "Processing  Rice  now...\n",
      "Processing  Fennel  now...\n",
      "Processing  Cumin Seed  now...\n",
      "Processing  Quinoa  now...\n",
      "Processing  Garlic  now...\n",
      "Processing  Banana  now...\n",
      "Processing  Coconut  now...\n",
      "Processing  Coconut  now...\n",
      "Processing  Basil  now...\n",
      "Processing  Lemon  now...\n",
      "Processing  Coffee Bean  now...\n",
      "Processing  Lemon  now...\n",
      "Processing  White Pepper  now...\n",
      "Processing  Garlic  now...\n",
      "Processing for all products DONE\n"
     ]
    }
   ],
   "source": [
    "final_result = {} #list to store the final result\n",
    "for i_idx, item in enumerate(data): #Loop through each row from the data.csv\n",
    "\n",
    "    KEY = '' \n",
    "    for product_name in products_and_attributes: #Loop through each product in the products_and_attributes\n",
    "        \n",
    "        if product_name.lower() in item.lower(): #find the exact product name from the row in data.csv\n",
    "            #reset the product name and clear the attributes to store the next product's\n",
    "            KEY = product_name \n",
    "            resultant_attrs = []\n",
    "            \n",
    "            #remove(cut) product name from the row\n",
    "            data_without_product_name = cut_from_string(item.lower(), product_name.lower())\n",
    "            \n",
    "            #store attributes of a product word by word in an array\n",
    "            attrs_cut = data_without_product_name.split(' ') \n",
    "            attrs_cut.remove('')\n",
    "            \n",
    "            #make lowercase for comparison\n",
    "            attrs_cut = [x.lower() for x in attrs_cut]\n",
    "            \n",
    "            #consider combinations of words in attributes\n",
    "            tmp = return_combinations(attrs_cut)\n",
    "            for i in tmp: \n",
    "                attrs_cut.append(i)\n",
    "\n",
    "            #find the attributes of a current product in products_and_attributes\n",
    "            current_products_attrs = [x.lower() for x in products_and_attributes[product_name]]\n",
    "            \n",
    "            #compare the attributes of a current product with attributes extracted from the current row\n",
    "            lower_found_atts = list(set(current_products_attrs).intersection(attrs_cut))\n",
    "            for found_attribute in lower_found_atts:\n",
    "                for products_attribute in products_and_attributes[product_name]:\n",
    "                    #if the attribute is found, add it to the list\n",
    "                    if found_attribute == products_attribute.lower():\n",
    "                        resultant_attrs.append(products_attribute)\n",
    "            \n",
    "            print('Processing ', product_name,' now...') #for debugging purposes\n",
    "         \n",
    "    #KEY is product name, and resultant_attrs contains found attributes of that product        \n",
    "    final_result[item] = (KEY, resultant_attrs)\n",
    "    resultant_attrs = []\n",
    "print('Processing for all products DONE')"
   ]
  },
  {
   "cell_type": "code",
   "execution_count": 15,
   "metadata": {
    "scrolled": true
   },
   "outputs": [
    {
     "data": {
      "text/plain": [
       "{'organic coffee beans': ('Coffee Bean', ['Organic']),\n",
       " 'dried coffee beans': ('Coffee Bean', []),\n",
       " 'dried green coffee beans': ('Coffee Bean', []),\n",
       " 'dried cocoa beans': ('Cocoa Bean', ['Dried']),\n",
       " 'cardamon seeds': ('', []),\n",
       " 'palm almond flour': ('Flour', []),\n",
       " 'dried cardamom': ('Cardamom', []),\n",
       " 'sesame seeds': ('', []),\n",
       " 'annatto seeds': ('', []),\n",
       " 'dried lemon': ('Lemon', []),\n",
       " 'black pepper powder': ('', []),\n",
       " 'curry powder': ('', []),\n",
       " 'red chili powder': ('', []),\n",
       " 'turmeric powder': ('', []),\n",
       " 'whole chick peas': ('', []),\n",
       " 'whole red kidney beans': ('', []),\n",
       " 'dried ginger': ('', []),\n",
       " 'flour': ('Flour', []),\n",
       " 'black pepper': ('', []),\n",
       " 'white pepper': ('White Pepper', []),\n",
       " 'cinnamon sticks': ('', []),\n",
       " 'fresh bittergourd': ('', []),\n",
       " 'fresh carrots': ('', []),\n",
       " 'dried banana slices': ('Banana', ['Dried']),\n",
       " 'dried jackfruit': ('Jackfruit', ['Dried']),\n",
       " 'tapioca chips': ('Chips', []),\n",
       " 'cashew nut kernels': ('Cashew Nut', []),\n",
       " 'fresh dragon fruit': ('Dragon Fruit', []),\n",
       " 'white rice grains': ('Rice', []),\n",
       " 'fennel seeds': ('Fennel', []),\n",
       " 'whole sesame seeds': ('', []),\n",
       " 'whole ground nut': ('', []),\n",
       " 'whole cumin seeds': ('Cumin Seed', ['Whole']),\n",
       " 'fresh chili pepper': ('', []),\n",
       " 'whole black pepper': ('', []),\n",
       " 'dried chilli': ('', []),\n",
       " 'quinoa': ('Quinoa', []),\n",
       " 'chili powder': ('', []),\n",
       " 'ginger powder': ('', []),\n",
       " 'garlic powder': ('Garlic', ['Powder']),\n",
       " 'moringga powder': ('', []),\n",
       " 'whole turmeric': ('', []),\n",
       " 'in shell gound nuts': ('', []),\n",
       " 'whole cavendish bananas': ('Banana', ['Whole']),\n",
       " 'whole husked coconuts': ('Coconut', []),\n",
       " 'fully husked coconuts': ('Coconut', []),\n",
       " 'Whole basil seed': ('Basil', ['Seed', 'Whole']),\n",
       " 'diced yellow lemon': ('Lemon', ['Yellow', 'Diced']),\n",
       " 'Java Roasted Coffee Bean': ('Coffee Bean', ['Java', 'Roasted']),\n",
       " 'yellow lemons in plastic box': ('Lemon', ['Yellow', 'Plastic Box']),\n",
       " 'cracked white Pepper Organic': ('White Pepper', ['Organic', 'Cracked']),\n",
       " 'wooden box of sliced black garlic': ('Garlic',\n",
       "  ['Wooden Box', 'Sliced', 'Black'])}"
      ]
     },
     "execution_count": 15,
     "metadata": {},
     "output_type": "execute_result"
    }
   ],
   "source": [
    "final_result"
   ]
  },
  {
   "cell_type": "markdown",
   "metadata": {},
   "source": [
    "Make the format more appropriate for writing into the csv file"
   ]
  },
  {
   "cell_type": "code",
   "execution_count": 16,
   "metadata": {},
   "outputs": [],
   "source": [
    "csv_rows = []\n",
    "\n",
    "for data_item, product_item in final_result.items():\n",
    "    tmp = []\n",
    "    attributes = ''\n",
    "    for i_idx, i in enumerate(product_item[1]):\n",
    "        if i_idx != len(product_item[1]) - 1:\n",
    "            attributes+=i + ' / '\n",
    "        else:\n",
    "            attributes+=i\n",
    "    \n",
    "    csv_rows.append([data_item, product_item[0], attributes])"
   ]
  },
  {
   "cell_type": "code",
   "execution_count": 17,
   "metadata": {
    "scrolled": true
   },
   "outputs": [
    {
     "data": {
      "text/plain": [
       "[['organic coffee beans', 'Coffee Bean', 'Organic'],\n",
       " ['dried coffee beans', 'Coffee Bean', ''],\n",
       " ['dried green coffee beans', 'Coffee Bean', ''],\n",
       " ['dried cocoa beans', 'Cocoa Bean', 'Dried'],\n",
       " ['cardamon seeds', '', ''],\n",
       " ['palm almond flour', 'Flour', ''],\n",
       " ['dried cardamom', 'Cardamom', ''],\n",
       " ['sesame seeds', '', ''],\n",
       " ['annatto seeds', '', ''],\n",
       " ['dried lemon', 'Lemon', ''],\n",
       " ['black pepper powder', '', ''],\n",
       " ['curry powder', '', ''],\n",
       " ['red chili powder', '', ''],\n",
       " ['turmeric powder', '', ''],\n",
       " ['whole chick peas', '', ''],\n",
       " ['whole red kidney beans', '', ''],\n",
       " ['dried ginger', '', ''],\n",
       " ['flour', 'Flour', ''],\n",
       " ['black pepper', '', ''],\n",
       " ['white pepper', 'White Pepper', ''],\n",
       " ['cinnamon sticks', '', ''],\n",
       " ['fresh bittergourd', '', ''],\n",
       " ['fresh carrots', '', ''],\n",
       " ['dried banana slices', 'Banana', 'Dried'],\n",
       " ['dried jackfruit', 'Jackfruit', 'Dried'],\n",
       " ['tapioca chips', 'Chips', ''],\n",
       " ['cashew nut kernels', 'Cashew Nut', ''],\n",
       " ['fresh dragon fruit', 'Dragon Fruit', ''],\n",
       " ['white rice grains', 'Rice', ''],\n",
       " ['fennel seeds', 'Fennel', ''],\n",
       " ['whole sesame seeds', '', ''],\n",
       " ['whole ground nut', '', ''],\n",
       " ['whole cumin seeds', 'Cumin Seed', 'Whole'],\n",
       " ['fresh chili pepper', '', ''],\n",
       " ['whole black pepper', '', ''],\n",
       " ['dried chilli', '', ''],\n",
       " ['quinoa', 'Quinoa', ''],\n",
       " ['chili powder', '', ''],\n",
       " ['ginger powder', '', ''],\n",
       " ['garlic powder', 'Garlic', 'Powder'],\n",
       " ['moringga powder', '', ''],\n",
       " ['whole turmeric', '', ''],\n",
       " ['in shell gound nuts', '', ''],\n",
       " ['whole cavendish bananas', 'Banana', 'Whole'],\n",
       " ['whole husked coconuts', 'Coconut', ''],\n",
       " ['fully husked coconuts', 'Coconut', ''],\n",
       " ['Whole basil seed', 'Basil', 'Seed / Whole'],\n",
       " ['diced yellow lemon', 'Lemon', 'Yellow / Diced'],\n",
       " ['Java Roasted Coffee Bean', 'Coffee Bean', 'Java / Roasted'],\n",
       " ['yellow lemons in plastic box', 'Lemon', 'Yellow / Plastic Box'],\n",
       " ['cracked white Pepper Organic', 'White Pepper', 'Organic / Cracked'],\n",
       " ['wooden box of sliced black garlic',\n",
       "  'Garlic',\n",
       "  'Wooden Box / Sliced / Black']]"
      ]
     },
     "execution_count": 17,
     "metadata": {},
     "output_type": "execute_result"
    }
   ],
   "source": [
    "csv_rows"
   ]
  },
  {
   "cell_type": "markdown",
   "metadata": {},
   "source": [
    "Write the final result in csv file"
   ]
  },
  {
   "cell_type": "code",
   "execution_count": 18,
   "metadata": {},
   "outputs": [],
   "source": [
    "# field names  \n",
    "fields = ['Data', 'Product', 'Attributes']  \n",
    "  \n",
    "# name of csv file  \n",
    "filename = \"result.csv\"\n",
    "    \n",
    "# writing to csv file  \n",
    "with open(filename, 'w', newline='') as csvfile:  \n",
    "    # creating a csv writer object  \n",
    "    csvwriter = csv.writer(csvfile)  \n",
    "        \n",
    "    # writing the fields  \n",
    "    csvwriter.writerow(fields)  \n",
    "        \n",
    "    # writing the data rows  \n",
    "    csvwriter.writerows(csv_rows) "
   ]
  },
  {
   "cell_type": "markdown",
   "metadata": {},
   "source": [
    "## References"
   ]
  },
  {
   "cell_type": "markdown",
   "metadata": {},
   "source": [
    "https://pythonprogramming.net/reading-csv-files-python-3/\n",
    "\n",
    "https://www.tutorialspoint.com/How-to-remove-specific-characters-from-a-string-in-Python\n",
    "\n",
    "https://stackoverflow.com/questions/1388818/how-can-i-compare-two-lists-in-python-and-return-matches\n",
    "\n",
    "https://stackoverflow.com/questions/35713093/how-can-i-compare-two-lists-in-python-and-return-not-matches\n",
    "\n",
    "https://stackoverflow.com/questions/29947844/opposite-of-set-intersection-in-python\n",
    "\n",
    "https://thispointer.com/different-ways-to-remove-a-key-from-dictionary-in-python/\n",
    "\n",
    "https://stackoverflow.com/questions/11277432/how-to-remove-a-key-from-a-python-dictionary\n",
    "\n",
    "https://www.geeksforgeeks.org/writing-csv-files-in-python/\n",
    "\n",
    "https://stackoverflow.com/questions/11652806/csv-write-skipping-lines-when-writing-to-csv/11652964\n",
    "\n",
    "https://stackoverflow.com/questions/3348460/csv-file-written-with-python-has-blank-lines-between-each-row?rq=1\n",
    "\n",
    "https://stackoverflow.com/questions/28704526/in-python-how-to-obtain-a-partial-view-of-a-dict"
   ]
  }
 ],
 "metadata": {
  "kernelspec": {
   "display_name": "Python 3",
   "language": "python",
   "name": "python3"
  },
  "language_info": {
   "codemirror_mode": {
    "name": "ipython",
    "version": 3
   },
   "file_extension": ".py",
   "mimetype": "text/x-python",
   "name": "python",
   "nbconvert_exporter": "python",
   "pygments_lexer": "ipython3",
   "version": "3.7.0"
  }
 },
 "nbformat": 4,
 "nbformat_minor": 2
}
